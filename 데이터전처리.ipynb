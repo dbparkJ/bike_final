{
 "cells": [
  {
   "cell_type": "code",
   "execution_count": 1,
   "id": "a7073568",
   "metadata": {
    "ExecuteTime": {
     "end_time": "2023-02-22T07:55:02.763421Z",
     "start_time": "2023-02-22T07:55:02.203591Z"
    }
   },
   "outputs": [],
   "source": [
    "from glob import glob\n",
    "import pandas as pd\n",
    "import chardet"
   ]
  },
  {
   "cell_type": "code",
   "execution_count": 2,
   "id": "5b7b1f06",
   "metadata": {
    "ExecuteTime": {
     "end_time": "2023-02-22T07:55:03.246841Z",
     "start_time": "2023-02-22T07:55:03.236671Z"
    }
   },
   "outputs": [],
   "source": [
    "csv_list=glob(r'D:\\따릉이 대여소 데이터\\서울시따릉이*')"
   ]
  },
  {
   "cell_type": "code",
   "execution_count": 3,
   "id": "cd9de677",
   "metadata": {
    "ExecuteTime": {
     "end_time": "2023-02-22T07:55:03.918929Z",
     "start_time": "2023-02-22T07:55:03.895045Z"
    }
   },
   "outputs": [
    {
     "data": {
      "text/plain": [
       "12"
      ]
     },
     "execution_count": 3,
     "metadata": {},
     "output_type": "execute_result"
    }
   ],
   "source": [
    "len(csv_list)"
   ]
  },
  {
   "cell_type": "code",
   "execution_count": 4,
   "id": "3fd513f0",
   "metadata": {
    "ExecuteTime": {
     "end_time": "2023-02-22T07:56:56.435988Z",
     "start_time": "2023-02-22T07:55:16.454261Z"
    }
   },
   "outputs": [],
   "source": [
    "df0=pd.read_csv(csv_list[0],encoding='cp949')\n",
    "df1=pd.read_csv(csv_list[1],encoding='cp949')\n",
    "df2=pd.read_csv(csv_list[2],encoding='cp949')\n",
    "df3=pd.read_csv(csv_list[3],encoding='cp949')\n",
    "df4=pd.read_csv(csv_list[4],encoding='cp949')\n",
    "df5=pd.read_csv(csv_list[5],encoding='cp949')\n",
    "df6=pd.read_csv(csv_list[6],encoding='cp949')\n",
    "df7=pd.read_csv(csv_list[7],encoding='cp949')\n",
    "df8=pd.read_csv(csv_list[8],encoding='cp949')\n",
    "df9=pd.read_csv(csv_list[9],encoding='cp949')\n",
    "df10=pd.read_csv(csv_list[10],encoding='utf-8')\n",
    "df11=pd.read_csv(csv_list[11],encoding='utf-8')"
   ]
  },
  {
   "cell_type": "markdown",
   "id": "7c2b8a06",
   "metadata": {},
   "source": [
    "기준일자 시작대여소id 전체건수"
   ]
  },
  {
   "cell_type": "code",
   "execution_count": 5,
   "id": "dd59dd50",
   "metadata": {
    "ExecuteTime": {
     "end_time": "2023-02-22T07:57:01.916254Z",
     "start_time": "2023-02-22T07:57:01.901670Z"
    }
   },
   "outputs": [],
   "source": [
    "columns=['기준일자', '구분코드', '기준시간대', '시작대여소ID', '시작대여소명', '종료대여소ID', '종료대여소명',\n",
    "       '전체건수', '전체이용시간(분)', '전체이용거리(M)']"
   ]
  },
  {
   "cell_type": "code",
   "execution_count": 6,
   "id": "6a64b094",
   "metadata": {
    "ExecuteTime": {
     "end_time": "2023-02-22T07:57:02.617647Z",
     "start_time": "2023-02-22T07:57:02.463917Z"
    }
   },
   "outputs": [],
   "source": [
    "df0=df0[columns]"
   ]
  },
  {
   "cell_type": "code",
   "execution_count": 7,
   "id": "a3c616bc",
   "metadata": {
    "ExecuteTime": {
     "end_time": "2023-02-22T07:57:02.890943Z",
     "start_time": "2023-02-22T07:57:02.876171Z"
    }
   },
   "outputs": [],
   "source": [
    "df_list=[df0,df1,df2,df3,df4,df5,df6,df7,df8,df9,df10,df11]"
   ]
  },
  {
   "cell_type": "code",
   "execution_count": 18,
   "id": "21022b80",
   "metadata": {
    "ExecuteTime": {
     "end_time": "2023-02-22T08:02:28.803406Z",
     "start_time": "2023-02-22T08:02:27.748318Z"
    }
   },
   "outputs": [],
   "source": [
    "date=[]\n",
    "station_id=[]\n",
    "total_num=[]"
   ]
  },
  {
   "cell_type": "code",
   "execution_count": 19,
   "id": "b5140ab2",
   "metadata": {
    "ExecuteTime": {
     "end_time": "2023-02-22T08:03:03.268390Z",
     "start_time": "2023-02-22T08:02:28.805358Z"
    },
    "scrolled": false
   },
   "outputs": [
    {
     "name": "stdout",
     "output_type": "stream",
     "text": [
      "0\n",
      "1\n",
      "2\n",
      "3\n",
      "4\n",
      "5\n",
      "6\n",
      "7\n",
      "8\n",
      "9\n",
      "10\n",
      "11\n"
     ]
    }
   ],
   "source": [
    "for i in range(len(df_list)):\n",
    "    df_list[i].loc[len(df_list[i])]=df_list[i].columns\n",
    "    df_list[i].columns=columns\n",
    "    date+=df_list[i].기준일자.tolist()\n",
    "    station_id+=df_list[i].시작대여소ID.tolist()\n",
    "    total_num+=df_list[i].전체건수.tolist()\n",
    "    print(i)"
   ]
  },
  {
   "cell_type": "code",
   "execution_count": 20,
   "id": "2079f6f2",
   "metadata": {
    "ExecuteTime": {
     "end_time": "2023-02-22T08:03:05.246302Z",
     "start_time": "2023-02-22T08:03:05.216610Z"
    }
   },
   "outputs": [
    {
     "data": {
      "text/plain": [
       "70296301"
      ]
     },
     "execution_count": 20,
     "metadata": {},
     "output_type": "execute_result"
    }
   ],
   "source": [
    "len(date)"
   ]
  },
  {
   "cell_type": "code",
   "execution_count": 23,
   "id": "2b0c3e51",
   "metadata": {
    "ExecuteTime": {
     "end_time": "2023-02-22T08:05:26.183960Z",
     "start_time": "2023-02-22T08:05:15.919864Z"
    }
   },
   "outputs": [],
   "source": [
    "dataFrame = pd.DataFrame({'기준일자':date,'시작대여소ID':station_id,'전체건수':total_num})"
   ]
  },
  {
   "cell_type": "code",
   "execution_count": 25,
   "id": "646008ae",
   "metadata": {
    "ExecuteTime": {
     "end_time": "2023-02-22T08:08:41.647326Z",
     "start_time": "2023-02-22T08:06:15.714432Z"
    }
   },
   "outputs": [],
   "source": [
    "dataFrame.to_csv('따릉이22년통합data.csv',encoding='cp949')"
   ]
  }
 ],
 "metadata": {
  "kernelspec": {
   "display_name": "Python 3 (ipykernel)",
   "language": "python",
   "name": "python3"
  },
  "language_info": {
   "codemirror_mode": {
    "name": "ipython",
    "version": 3
   },
   "file_extension": ".py",
   "mimetype": "text/x-python",
   "name": "python",
   "nbconvert_exporter": "python",
   "pygments_lexer": "ipython3",
   "version": "3.9.13"
  }
 },
 "nbformat": 4,
 "nbformat_minor": 5
}
